{
  "cells": [
    {
      "cell_type": "markdown",
      "metadata": {
        "id": "view-in-github",
        "colab_type": "text"
      },
      "source": [
        "<a href=\"https://colab.research.google.com/github/ai7dnn/2024-1-my-BDA/blob/main/inclass/06w_lect_ch17_data_structure.ipynb\" target=\"_parent\"><img src=\"https://colab.research.google.com/assets/colab-badge.svg\" alt=\"Open In Colab\"/></a>"
      ]
    },
    {
      "cell_type": "markdown",
      "id": "d74148d7",
      "metadata": {
        "id": "d74148d7"
      },
      "source": [
        "# 17 자료 구조 다루기"
      ]
    },
    {
      "cell_type": "markdown",
      "id": "b7831670",
      "metadata": {
        "id": "b7831670"
      },
      "source": [
        "## 17-1 자료 구조란?"
      ]
    },
    {
      "cell_type": "code",
      "execution_count": 1,
      "id": "975ea270",
      "metadata": {
        "colab": {
          "base_uri": "https://localhost:8080/"
        },
        "id": "975ea270",
        "outputId": "73a88bd1-36b8-4cb3-a8b7-b743156fdfb7"
      },
      "outputs": [
        {
          "output_type": "execute_result",
          "data": {
            "text/plain": [
              "0    2.0\n",
              "dtype: float64"
            ]
          },
          "metadata": {},
          "execution_count": 1
        }
      ],
      "source": [
        "import pandas as pd\n",
        "df = pd.DataFrame([1, 2, 3])  # 데이터 프레임 만들기\n",
        "df.mean()                     # mean() 사용"
      ]
    },
    {
      "cell_type": "code",
      "execution_count": 2,
      "id": "e3b5c72d",
      "metadata": {
        "error": true,
        "tags": [
          "raises-exception"
        ],
        "colab": {
          "base_uri": "https://localhost:8080/",
          "height": 168
        },
        "id": "e3b5c72d",
        "outputId": "473dfcfc-39d0-4b8c-b6da-328e355ff9c0"
      },
      "outputs": [
        {
          "output_type": "error",
          "ename": "AttributeError",
          "evalue": "'list' object has no attribute 'mean'",
          "traceback": [
            "\u001b[0;31m---------------------------------------------------------------------------\u001b[0m",
            "\u001b[0;31mAttributeError\u001b[0m                            Traceback (most recent call last)",
            "\u001b[0;32m<ipython-input-2-a48842554d30>\u001b[0m in \u001b[0;36m<cell line: 2>\u001b[0;34m()\u001b[0m\n\u001b[1;32m      1\u001b[0m \u001b[0mx\u001b[0m \u001b[0;34m=\u001b[0m \u001b[0;34m[\u001b[0m\u001b[0;36m1\u001b[0m\u001b[0;34m,\u001b[0m \u001b[0;36m2\u001b[0m\u001b[0;34m,\u001b[0m \u001b[0;36m3\u001b[0m\u001b[0;34m]\u001b[0m   \u001b[0;31m# list 만들기\u001b[0m\u001b[0;34m\u001b[0m\u001b[0;34m\u001b[0m\u001b[0m\n\u001b[0;32m----> 2\u001b[0;31m \u001b[0mx\u001b[0m\u001b[0;34m.\u001b[0m\u001b[0mmean\u001b[0m\u001b[0;34m(\u001b[0m\u001b[0;34m)\u001b[0m        \u001b[0;31m# mean() 사용 불가\u001b[0m\u001b[0;34m\u001b[0m\u001b[0;34m\u001b[0m\u001b[0m\n\u001b[0m",
            "\u001b[0;31mAttributeError\u001b[0m: 'list' object has no attribute 'mean'"
          ]
        }
      ],
      "source": [
        "x = [1, 2, 3]   # list 만들기\n",
        "x.mean()        # mean() 사용 불가"
      ]
    },
    {
      "cell_type": "code",
      "source": [
        "pd.Series([1, 2, 3]).mean()"
      ],
      "metadata": {
        "colab": {
          "base_uri": "https://localhost:8080/"
        },
        "id": "nttTnd9JS4EG",
        "outputId": "381c20e0-da29-4878-dbfa-2313f6814268"
      },
      "id": "nttTnd9JS4EG",
      "execution_count": 3,
      "outputs": [
        {
          "output_type": "execute_result",
          "data": {
            "text/plain": [
              "2.0"
            ]
          },
          "metadata": {},
          "execution_count": 3
        }
      ]
    },
    {
      "cell_type": "code",
      "execution_count": 4,
      "id": "504b6501",
      "metadata": {
        "error": true,
        "colab": {
          "base_uri": "https://localhost:8080/"
        },
        "id": "504b6501",
        "outputId": "a2fa9a15-46a8-496e-dcc4-015a74cd7c96"
      },
      "outputs": [
        {
          "output_type": "execute_result",
          "data": {
            "text/plain": [
              "2.0"
            ]
          },
          "metadata": {},
          "execution_count": 4
        }
      ],
      "source": [
        "sum(x) / len(x)  # sum()과 len()을 이용해 평균 구하기"
      ]
    },
    {
      "cell_type": "code",
      "execution_count": 5,
      "id": "0ee8e7ef",
      "metadata": {
        "colab": {
          "base_uri": "https://localhost:8080/",
          "height": 143
        },
        "id": "0ee8e7ef",
        "outputId": "4747d0ea-d2f8-4c7b-9c97-0ef02d352e21"
      },
      "outputs": [
        {
          "output_type": "execute_result",
          "data": {
            "text/plain": [
              "   0\n",
              "0  1\n",
              "1  2\n",
              "2  3"
            ],
            "text/html": [
              "\n",
              "  <div id=\"df-f2f15336-a761-4fc0-b300-b1b341fe1770\" class=\"colab-df-container\">\n",
              "    <div>\n",
              "<style scoped>\n",
              "    .dataframe tbody tr th:only-of-type {\n",
              "        vertical-align: middle;\n",
              "    }\n",
              "\n",
              "    .dataframe tbody tr th {\n",
              "        vertical-align: top;\n",
              "    }\n",
              "\n",
              "    .dataframe thead th {\n",
              "        text-align: right;\n",
              "    }\n",
              "</style>\n",
              "<table border=\"1\" class=\"dataframe\">\n",
              "  <thead>\n",
              "    <tr style=\"text-align: right;\">\n",
              "      <th></th>\n",
              "      <th>0</th>\n",
              "    </tr>\n",
              "  </thead>\n",
              "  <tbody>\n",
              "    <tr>\n",
              "      <th>0</th>\n",
              "      <td>1</td>\n",
              "    </tr>\n",
              "    <tr>\n",
              "      <th>1</th>\n",
              "      <td>2</td>\n",
              "    </tr>\n",
              "    <tr>\n",
              "      <th>2</th>\n",
              "      <td>3</td>\n",
              "    </tr>\n",
              "  </tbody>\n",
              "</table>\n",
              "</div>\n",
              "    <div class=\"colab-df-buttons\">\n",
              "\n",
              "  <div class=\"colab-df-container\">\n",
              "    <button class=\"colab-df-convert\" onclick=\"convertToInteractive('df-f2f15336-a761-4fc0-b300-b1b341fe1770')\"\n",
              "            title=\"Convert this dataframe to an interactive table.\"\n",
              "            style=\"display:none;\">\n",
              "\n",
              "  <svg xmlns=\"http://www.w3.org/2000/svg\" height=\"24px\" viewBox=\"0 -960 960 960\">\n",
              "    <path d=\"M120-120v-720h720v720H120Zm60-500h600v-160H180v160Zm220 220h160v-160H400v160Zm0 220h160v-160H400v160ZM180-400h160v-160H180v160Zm440 0h160v-160H620v160ZM180-180h160v-160H180v160Zm440 0h160v-160H620v160Z\"/>\n",
              "  </svg>\n",
              "    </button>\n",
              "\n",
              "  <style>\n",
              "    .colab-df-container {\n",
              "      display:flex;\n",
              "      gap: 12px;\n",
              "    }\n",
              "\n",
              "    .colab-df-convert {\n",
              "      background-color: #E8F0FE;\n",
              "      border: none;\n",
              "      border-radius: 50%;\n",
              "      cursor: pointer;\n",
              "      display: none;\n",
              "      fill: #1967D2;\n",
              "      height: 32px;\n",
              "      padding: 0 0 0 0;\n",
              "      width: 32px;\n",
              "    }\n",
              "\n",
              "    .colab-df-convert:hover {\n",
              "      background-color: #E2EBFA;\n",
              "      box-shadow: 0px 1px 2px rgba(60, 64, 67, 0.3), 0px 1px 3px 1px rgba(60, 64, 67, 0.15);\n",
              "      fill: #174EA6;\n",
              "    }\n",
              "\n",
              "    .colab-df-buttons div {\n",
              "      margin-bottom: 4px;\n",
              "    }\n",
              "\n",
              "    [theme=dark] .colab-df-convert {\n",
              "      background-color: #3B4455;\n",
              "      fill: #D2E3FC;\n",
              "    }\n",
              "\n",
              "    [theme=dark] .colab-df-convert:hover {\n",
              "      background-color: #434B5C;\n",
              "      box-shadow: 0px 1px 3px 1px rgba(0, 0, 0, 0.15);\n",
              "      filter: drop-shadow(0px 1px 2px rgba(0, 0, 0, 0.3));\n",
              "      fill: #FFFFFF;\n",
              "    }\n",
              "  </style>\n",
              "\n",
              "    <script>\n",
              "      const buttonEl =\n",
              "        document.querySelector('#df-f2f15336-a761-4fc0-b300-b1b341fe1770 button.colab-df-convert');\n",
              "      buttonEl.style.display =\n",
              "        google.colab.kernel.accessAllowed ? 'block' : 'none';\n",
              "\n",
              "      async function convertToInteractive(key) {\n",
              "        const element = document.querySelector('#df-f2f15336-a761-4fc0-b300-b1b341fe1770');\n",
              "        const dataTable =\n",
              "          await google.colab.kernel.invokeFunction('convertToInteractive',\n",
              "                                                    [key], {});\n",
              "        if (!dataTable) return;\n",
              "\n",
              "        const docLinkHtml = 'Like what you see? Visit the ' +\n",
              "          '<a target=\"_blank\" href=https://colab.research.google.com/notebooks/data_table.ipynb>data table notebook</a>'\n",
              "          + ' to learn more about interactive tables.';\n",
              "        element.innerHTML = '';\n",
              "        dataTable['output_type'] = 'display_data';\n",
              "        await google.colab.output.renderOutput(dataTable, element);\n",
              "        const docLink = document.createElement('div');\n",
              "        docLink.innerHTML = docLinkHtml;\n",
              "        element.appendChild(docLink);\n",
              "      }\n",
              "    </script>\n",
              "  </div>\n",
              "\n",
              "\n",
              "<div id=\"df-261e5214-3ae1-41f3-a53f-ec37f1bfe56c\">\n",
              "  <button class=\"colab-df-quickchart\" onclick=\"quickchart('df-261e5214-3ae1-41f3-a53f-ec37f1bfe56c')\"\n",
              "            title=\"Suggest charts\"\n",
              "            style=\"display:none;\">\n",
              "\n",
              "<svg xmlns=\"http://www.w3.org/2000/svg\" height=\"24px\"viewBox=\"0 0 24 24\"\n",
              "     width=\"24px\">\n",
              "    <g>\n",
              "        <path d=\"M19 3H5c-1.1 0-2 .9-2 2v14c0 1.1.9 2 2 2h14c1.1 0 2-.9 2-2V5c0-1.1-.9-2-2-2zM9 17H7v-7h2v7zm4 0h-2V7h2v10zm4 0h-2v-4h2v4z\"/>\n",
              "    </g>\n",
              "</svg>\n",
              "  </button>\n",
              "\n",
              "<style>\n",
              "  .colab-df-quickchart {\n",
              "      --bg-color: #E8F0FE;\n",
              "      --fill-color: #1967D2;\n",
              "      --hover-bg-color: #E2EBFA;\n",
              "      --hover-fill-color: #174EA6;\n",
              "      --disabled-fill-color: #AAA;\n",
              "      --disabled-bg-color: #DDD;\n",
              "  }\n",
              "\n",
              "  [theme=dark] .colab-df-quickchart {\n",
              "      --bg-color: #3B4455;\n",
              "      --fill-color: #D2E3FC;\n",
              "      --hover-bg-color: #434B5C;\n",
              "      --hover-fill-color: #FFFFFF;\n",
              "      --disabled-bg-color: #3B4455;\n",
              "      --disabled-fill-color: #666;\n",
              "  }\n",
              "\n",
              "  .colab-df-quickchart {\n",
              "    background-color: var(--bg-color);\n",
              "    border: none;\n",
              "    border-radius: 50%;\n",
              "    cursor: pointer;\n",
              "    display: none;\n",
              "    fill: var(--fill-color);\n",
              "    height: 32px;\n",
              "    padding: 0;\n",
              "    width: 32px;\n",
              "  }\n",
              "\n",
              "  .colab-df-quickchart:hover {\n",
              "    background-color: var(--hover-bg-color);\n",
              "    box-shadow: 0 1px 2px rgba(60, 64, 67, 0.3), 0 1px 3px 1px rgba(60, 64, 67, 0.15);\n",
              "    fill: var(--button-hover-fill-color);\n",
              "  }\n",
              "\n",
              "  .colab-df-quickchart-complete:disabled,\n",
              "  .colab-df-quickchart-complete:disabled:hover {\n",
              "    background-color: var(--disabled-bg-color);\n",
              "    fill: var(--disabled-fill-color);\n",
              "    box-shadow: none;\n",
              "  }\n",
              "\n",
              "  .colab-df-spinner {\n",
              "    border: 2px solid var(--fill-color);\n",
              "    border-color: transparent;\n",
              "    border-bottom-color: var(--fill-color);\n",
              "    animation:\n",
              "      spin 1s steps(1) infinite;\n",
              "  }\n",
              "\n",
              "  @keyframes spin {\n",
              "    0% {\n",
              "      border-color: transparent;\n",
              "      border-bottom-color: var(--fill-color);\n",
              "      border-left-color: var(--fill-color);\n",
              "    }\n",
              "    20% {\n",
              "      border-color: transparent;\n",
              "      border-left-color: var(--fill-color);\n",
              "      border-top-color: var(--fill-color);\n",
              "    }\n",
              "    30% {\n",
              "      border-color: transparent;\n",
              "      border-left-color: var(--fill-color);\n",
              "      border-top-color: var(--fill-color);\n",
              "      border-right-color: var(--fill-color);\n",
              "    }\n",
              "    40% {\n",
              "      border-color: transparent;\n",
              "      border-right-color: var(--fill-color);\n",
              "      border-top-color: var(--fill-color);\n",
              "    }\n",
              "    60% {\n",
              "      border-color: transparent;\n",
              "      border-right-color: var(--fill-color);\n",
              "    }\n",
              "    80% {\n",
              "      border-color: transparent;\n",
              "      border-right-color: var(--fill-color);\n",
              "      border-bottom-color: var(--fill-color);\n",
              "    }\n",
              "    90% {\n",
              "      border-color: transparent;\n",
              "      border-bottom-color: var(--fill-color);\n",
              "    }\n",
              "  }\n",
              "</style>\n",
              "\n",
              "  <script>\n",
              "    async function quickchart(key) {\n",
              "      const quickchartButtonEl =\n",
              "        document.querySelector('#' + key + ' button');\n",
              "      quickchartButtonEl.disabled = true;  // To prevent multiple clicks.\n",
              "      quickchartButtonEl.classList.add('colab-df-spinner');\n",
              "      try {\n",
              "        const charts = await google.colab.kernel.invokeFunction(\n",
              "            'suggestCharts', [key], {});\n",
              "      } catch (error) {\n",
              "        console.error('Error during call to suggestCharts:', error);\n",
              "      }\n",
              "      quickchartButtonEl.classList.remove('colab-df-spinner');\n",
              "      quickchartButtonEl.classList.add('colab-df-quickchart-complete');\n",
              "    }\n",
              "    (() => {\n",
              "      let quickchartButtonEl =\n",
              "        document.querySelector('#df-261e5214-3ae1-41f3-a53f-ec37f1bfe56c button');\n",
              "      quickchartButtonEl.style.display =\n",
              "        google.colab.kernel.accessAllowed ? 'block' : 'none';\n",
              "    })();\n",
              "  </script>\n",
              "</div>\n",
              "\n",
              "  <div id=\"id_0b196549-b9bc-4fd6-a22c-706d231e562e\">\n",
              "    <style>\n",
              "      .colab-df-generate {\n",
              "        background-color: #E8F0FE;\n",
              "        border: none;\n",
              "        border-radius: 50%;\n",
              "        cursor: pointer;\n",
              "        display: none;\n",
              "        fill: #1967D2;\n",
              "        height: 32px;\n",
              "        padding: 0 0 0 0;\n",
              "        width: 32px;\n",
              "      }\n",
              "\n",
              "      .colab-df-generate:hover {\n",
              "        background-color: #E2EBFA;\n",
              "        box-shadow: 0px 1px 2px rgba(60, 64, 67, 0.3), 0px 1px 3px 1px rgba(60, 64, 67, 0.15);\n",
              "        fill: #174EA6;\n",
              "      }\n",
              "\n",
              "      [theme=dark] .colab-df-generate {\n",
              "        background-color: #3B4455;\n",
              "        fill: #D2E3FC;\n",
              "      }\n",
              "\n",
              "      [theme=dark] .colab-df-generate:hover {\n",
              "        background-color: #434B5C;\n",
              "        box-shadow: 0px 1px 3px 1px rgba(0, 0, 0, 0.15);\n",
              "        filter: drop-shadow(0px 1px 2px rgba(0, 0, 0, 0.3));\n",
              "        fill: #FFFFFF;\n",
              "      }\n",
              "    </style>\n",
              "    <button class=\"colab-df-generate\" onclick=\"generateWithVariable('df_x')\"\n",
              "            title=\"Generate code using this dataframe.\"\n",
              "            style=\"display:none;\">\n",
              "\n",
              "  <svg xmlns=\"http://www.w3.org/2000/svg\" height=\"24px\"viewBox=\"0 0 24 24\"\n",
              "       width=\"24px\">\n",
              "    <path d=\"M7,19H8.4L18.45,9,17,7.55,7,17.6ZM5,21V16.75L18.45,3.32a2,2,0,0,1,2.83,0l1.4,1.43a1.91,1.91,0,0,1,.58,1.4,1.91,1.91,0,0,1-.58,1.4L9.25,21ZM18.45,9,17,7.55Zm-12,3A5.31,5.31,0,0,0,4.9,8.1,5.31,5.31,0,0,0,1,6.5,5.31,5.31,0,0,0,4.9,4.9,5.31,5.31,0,0,0,6.5,1,5.31,5.31,0,0,0,8.1,4.9,5.31,5.31,0,0,0,12,6.5,5.46,5.46,0,0,0,6.5,12Z\"/>\n",
              "  </svg>\n",
              "    </button>\n",
              "    <script>\n",
              "      (() => {\n",
              "      const buttonEl =\n",
              "        document.querySelector('#id_0b196549-b9bc-4fd6-a22c-706d231e562e button.colab-df-generate');\n",
              "      buttonEl.style.display =\n",
              "        google.colab.kernel.accessAllowed ? 'block' : 'none';\n",
              "\n",
              "      buttonEl.onclick = () => {\n",
              "        google.colab.notebook.generateWithVariable('df_x');\n",
              "      }\n",
              "      })();\n",
              "    </script>\n",
              "  </div>\n",
              "\n",
              "    </div>\n",
              "  </div>\n"
            ],
            "application/vnd.google.colaboratory.intrinsic+json": {
              "type": "dataframe",
              "variable_name": "df_x",
              "summary": "{\n  \"name\": \"df_x\",\n  \"rows\": 3,\n  \"fields\": [\n    {\n      \"column\": 0,\n      \"properties\": {\n        \"dtype\": \"number\",\n        \"std\": 1,\n        \"min\": 1,\n        \"max\": 3,\n        \"num_unique_values\": 3,\n        \"samples\": [\n          1,\n          2,\n          3\n        ],\n        \"semantic_type\": \"\",\n        \"description\": \"\"\n      }\n    }\n  ]\n}"
            }
          },
          "metadata": {},
          "execution_count": 5
        }
      ],
      "source": [
        "df_x = pd.DataFrame(x)  # 데이터 프레임으로 바꾸기\n",
        "df_x"
      ]
    },
    {
      "cell_type": "code",
      "execution_count": 6,
      "id": "166fe9cb",
      "metadata": {
        "colab": {
          "base_uri": "https://localhost:8080/"
        },
        "id": "166fe9cb",
        "outputId": "00dd86dd-9fed-4f6b-a38e-16e684af732d"
      },
      "outputs": [
        {
          "output_type": "execute_result",
          "data": {
            "text/plain": [
              "0    2.0\n",
              "dtype: float64"
            ]
          },
          "metadata": {},
          "execution_count": 6
        }
      ],
      "source": [
        "df_x.mean()  # mean() 사용"
      ]
    },
    {
      "cell_type": "markdown",
      "id": "f11fd238",
      "metadata": {
        "id": "f11fd238"
      },
      "source": [
        "## 17-2 스칼라\n",
        "\n",
        "### 스칼라 만들기"
      ]
    },
    {
      "cell_type": "markdown",
      "id": "f234996f-08b2-4566-bf0d-d4cc316e0d3a",
      "metadata": {
        "id": "f234996f-08b2-4566-bf0d-d4cc316e0d3a"
      },
      "source": [
        "##### int: 정수"
      ]
    },
    {
      "cell_type": "code",
      "execution_count": 7,
      "id": "44a36ccd",
      "metadata": {
        "colab": {
          "base_uri": "https://localhost:8080/"
        },
        "id": "44a36ccd",
        "outputId": "404665d1-4457-4855-96da-58ce702cfaf4"
      },
      "outputs": [
        {
          "output_type": "execute_result",
          "data": {
            "text/plain": [
              "1"
            ]
          },
          "metadata": {},
          "execution_count": 7
        }
      ],
      "source": [
        "x = 1\n",
        "x"
      ]
    },
    {
      "cell_type": "code",
      "execution_count": 8,
      "id": "254202a3",
      "metadata": {
        "eval": false,
        "colab": {
          "base_uri": "https://localhost:8080/"
        },
        "id": "254202a3",
        "outputId": "4472b1c9-fe41-46d1-b1df-3fc2a713a754"
      },
      "outputs": [
        {
          "output_type": "execute_result",
          "data": {
            "text/plain": [
              "int"
            ]
          },
          "metadata": {},
          "execution_count": 8
        }
      ],
      "source": [
        "type(x)"
      ]
    },
    {
      "cell_type": "markdown",
      "id": "4320b68c",
      "metadata": {
        "lines_to_next_cell": 0,
        "id": "4320b68c"
      },
      "source": [
        "##### float: 부동소수점"
      ]
    },
    {
      "cell_type": "code",
      "execution_count": 9,
      "id": "a3b67f79",
      "metadata": {
        "colab": {
          "base_uri": "https://localhost:8080/"
        },
        "id": "a3b67f79",
        "outputId": "5dc0b23d-0b64-442d-9c4d-84caff3bdbbc"
      },
      "outputs": [
        {
          "output_type": "execute_result",
          "data": {
            "text/plain": [
              "1.5"
            ]
          },
          "metadata": {},
          "execution_count": 9
        }
      ],
      "source": [
        "x = 1.5\n",
        "x"
      ]
    },
    {
      "cell_type": "code",
      "execution_count": 10,
      "id": "020e7d46",
      "metadata": {
        "eval": false,
        "colab": {
          "base_uri": "https://localhost:8080/"
        },
        "id": "020e7d46",
        "outputId": "362759ef-ce2e-4add-e5f7-97b3096378ce"
      },
      "outputs": [
        {
          "output_type": "execute_result",
          "data": {
            "text/plain": [
              "float"
            ]
          },
          "metadata": {},
          "execution_count": 10
        }
      ],
      "source": [
        "type(x)"
      ]
    },
    {
      "cell_type": "markdown",
      "id": "e0bcb95e",
      "metadata": {
        "id": "e0bcb95e"
      },
      "source": [
        "##### str: 문자열"
      ]
    },
    {
      "cell_type": "code",
      "execution_count": 11,
      "id": "573f7baf",
      "metadata": {
        "colab": {
          "base_uri": "https://localhost:8080/",
          "height": 36
        },
        "id": "573f7baf",
        "outputId": "f1c8a7eb-ddf8-4b0b-fddc-3b5c2bbbb7ff"
      },
      "outputs": [
        {
          "output_type": "execute_result",
          "data": {
            "text/plain": [
              "'apple'"
            ],
            "application/vnd.google.colaboratory.intrinsic+json": {
              "type": "string"
            }
          },
          "metadata": {},
          "execution_count": 11
        }
      ],
      "source": [
        "x = 'apple'\n",
        "x"
      ]
    },
    {
      "cell_type": "code",
      "execution_count": 12,
      "id": "1f4d8cee",
      "metadata": {
        "eval": false,
        "colab": {
          "base_uri": "https://localhost:8080/"
        },
        "id": "1f4d8cee",
        "outputId": "d022751e-4d45-4c1a-d27d-4156218c8ea8"
      },
      "outputs": [
        {
          "output_type": "execute_result",
          "data": {
            "text/plain": [
              "str"
            ]
          },
          "metadata": {},
          "execution_count": 12
        }
      ],
      "source": [
        "type(x)"
      ]
    },
    {
      "cell_type": "markdown",
      "id": "9d9bf6ee-3d9f-494f-badc-42cc4888a069",
      "metadata": {
        "id": "9d9bf6ee-3d9f-494f-badc-42cc4888a069"
      },
      "source": [
        "### 타입 바꾸기"
      ]
    },
    {
      "cell_type": "code",
      "execution_count": 13,
      "id": "a5b0250d",
      "metadata": {
        "colab": {
          "base_uri": "https://localhost:8080/"
        },
        "id": "a5b0250d",
        "outputId": "ec77daa3-aed6-417d-e02f-98c2028e8979"
      },
      "outputs": [
        {
          "output_type": "execute_result",
          "data": {
            "text/plain": [
              "1"
            ]
          },
          "metadata": {},
          "execution_count": 13
        }
      ],
      "source": [
        "# int 만들기\n",
        "var1 = 1\n",
        "var1"
      ]
    },
    {
      "cell_type": "code",
      "execution_count": 14,
      "id": "94151f81",
      "metadata": {
        "eval": false,
        "colab": {
          "base_uri": "https://localhost:8080/"
        },
        "id": "94151f81",
        "outputId": "c7c4ddcd-4828-48f7-d215-d92ab03e6ee7"
      },
      "outputs": [
        {
          "output_type": "execute_result",
          "data": {
            "text/plain": [
              "int"
            ]
          },
          "metadata": {},
          "execution_count": 14
        }
      ],
      "source": [
        "type(var1)"
      ]
    },
    {
      "cell_type": "code",
      "execution_count": 15,
      "id": "e0586e69",
      "metadata": {
        "colab": {
          "base_uri": "https://localhost:8080/"
        },
        "id": "e0586e69",
        "outputId": "47c731c6-6d42-4c01-b495-20b31a4843e9"
      },
      "outputs": [
        {
          "output_type": "execute_result",
          "data": {
            "text/plain": [
              "1.0"
            ]
          },
          "metadata": {},
          "execution_count": 15
        }
      ],
      "source": [
        "# int를 float로 바꾸기\n",
        "var2 = float(var1)\n",
        "var2"
      ]
    },
    {
      "cell_type": "code",
      "execution_count": 16,
      "id": "354ba1cf",
      "metadata": {
        "eval": false,
        "colab": {
          "base_uri": "https://localhost:8080/"
        },
        "id": "354ba1cf",
        "outputId": "e7c42b67-f9e0-454b-ce3b-153d68e6103d"
      },
      "outputs": [
        {
          "output_type": "execute_result",
          "data": {
            "text/plain": [
              "float"
            ]
          },
          "metadata": {},
          "execution_count": 16
        }
      ],
      "source": [
        "type(var2)"
      ]
    },
    {
      "cell_type": "code",
      "execution_count": 17,
      "id": "f1343948",
      "metadata": {
        "colab": {
          "base_uri": "https://localhost:8080/",
          "height": 36
        },
        "id": "f1343948",
        "outputId": "0309d35f-6693-458c-d467-3c82d3abd417"
      },
      "outputs": [
        {
          "output_type": "execute_result",
          "data": {
            "text/plain": [
              "'1.0'"
            ],
            "application/vnd.google.colaboratory.intrinsic+json": {
              "type": "string"
            }
          },
          "metadata": {},
          "execution_count": 17
        }
      ],
      "source": [
        "# float를 str로 바꾸기\n",
        "var3 = str(var2)\n",
        "var3"
      ]
    },
    {
      "cell_type": "code",
      "execution_count": 18,
      "id": "16850c15",
      "metadata": {
        "eval": false,
        "colab": {
          "base_uri": "https://localhost:8080/"
        },
        "id": "16850c15",
        "outputId": "ae47c9bc-fcee-48bd-8ff3-107f182e0393"
      },
      "outputs": [
        {
          "output_type": "execute_result",
          "data": {
            "text/plain": [
              "str"
            ]
          },
          "metadata": {},
          "execution_count": 18
        }
      ],
      "source": [
        "type(var3)"
      ]
    },
    {
      "cell_type": "markdown",
      "id": "348a4503",
      "metadata": {
        "id": "348a4503"
      },
      "source": [
        "## 17-3 리스트"
      ]
    },
    {
      "cell_type": "markdown",
      "id": "d118fd1b",
      "metadata": {
        "id": "d118fd1b"
      },
      "source": [
        "### 만들기"
      ]
    },
    {
      "cell_type": "code",
      "execution_count": 19,
      "id": "125ea150",
      "metadata": {
        "colab": {
          "base_uri": "https://localhost:8080/"
        },
        "id": "125ea150",
        "outputId": "646ea9a3-c895-454c-9f84-792ae42514cc"
      },
      "outputs": [
        {
          "output_type": "execute_result",
          "data": {
            "text/plain": [
              "[1, 2, 'a', 'b']"
            ]
          },
          "metadata": {},
          "execution_count": 19
        }
      ],
      "source": [
        "# 리스트 만들기\n",
        "x = [1, 2, 'a', 'b']\n",
        "x"
      ]
    },
    {
      "cell_type": "code",
      "execution_count": 20,
      "id": "621431e4",
      "metadata": {
        "eval": false,
        "colab": {
          "base_uri": "https://localhost:8080/"
        },
        "id": "621431e4",
        "outputId": "c1292e7b-0568-41d9-cd59-437ba279856a"
      },
      "outputs": [
        {
          "output_type": "execute_result",
          "data": {
            "text/plain": [
              "list"
            ]
          },
          "metadata": {},
          "execution_count": 20
        }
      ],
      "source": [
        "type(x)"
      ]
    },
    {
      "cell_type": "markdown",
      "id": "42e7d2ed",
      "metadata": {
        "id": "42e7d2ed"
      },
      "source": [
        "### 추출하기"
      ]
    },
    {
      "cell_type": "code",
      "execution_count": 21,
      "id": "3d8fc0ac",
      "metadata": {
        "colab": {
          "base_uri": "https://localhost:8080/"
        },
        "id": "3d8fc0ac",
        "outputId": "f62fe7a7-99f5-47da-d871-bfb0e1beb499"
      },
      "outputs": [
        {
          "output_type": "execute_result",
          "data": {
            "text/plain": [
              "1"
            ]
          },
          "metadata": {},
          "execution_count": 21
        }
      ],
      "source": [
        "x[0]  # 0번째 값 추출"
      ]
    },
    {
      "cell_type": "code",
      "execution_count": 22,
      "id": "a497ba49",
      "metadata": {
        "colab": {
          "base_uri": "https://localhost:8080/"
        },
        "id": "a497ba49",
        "outputId": "5de53725-5560-4748-c95a-5e0481f0a949"
      },
      "outputs": [
        {
          "output_type": "execute_result",
          "data": {
            "text/plain": [
              "[2, 'a']"
            ]
          },
          "metadata": {},
          "execution_count": 22
        }
      ],
      "source": [
        "x[1:3]  # 1~2번째 값 추출"
      ]
    },
    {
      "cell_type": "markdown",
      "id": "c725a976",
      "metadata": {
        "id": "c725a976"
      },
      "source": [
        "### 수정하기\n",
        "\n",
        "**추가하기**"
      ]
    },
    {
      "cell_type": "code",
      "execution_count": 23,
      "id": "1bbe4be5",
      "metadata": {
        "colab": {
          "base_uri": "https://localhost:8080/"
        },
        "id": "1bbe4be5",
        "outputId": "91c9b539-36d5-433c-ad1d-bc78d2be8c9f"
      },
      "outputs": [
        {
          "output_type": "execute_result",
          "data": {
            "text/plain": [
              "[1, 2, 'a', 'b', 8]"
            ]
          },
          "metadata": {},
          "execution_count": 23
        }
      ],
      "source": [
        "x.append(8)  # x에 8 추가\n",
        "x"
      ]
    },
    {
      "cell_type": "markdown",
      "id": "8bba0eeb",
      "metadata": {
        "id": "8bba0eeb"
      },
      "source": [
        "**삭제하기**"
      ]
    },
    {
      "cell_type": "code",
      "execution_count": 24,
      "id": "18771a22",
      "metadata": {
        "colab": {
          "base_uri": "https://localhost:8080/"
        },
        "id": "18771a22",
        "outputId": "314f939b-0198-4295-e6d0-eb4eaae2babd"
      },
      "outputs": [
        {
          "output_type": "execute_result",
          "data": {
            "text/plain": [
              "[1, 'a', 'b', 8]"
            ]
          },
          "metadata": {},
          "execution_count": 24
        }
      ],
      "source": [
        "x.remove(2)  # x에서 2 삭제\n",
        "x"
      ]
    },
    {
      "cell_type": "markdown",
      "id": "efc6dbdf",
      "metadata": {
        "id": "efc6dbdf"
      },
      "source": [
        "**변경하기**"
      ]
    },
    {
      "cell_type": "code",
      "execution_count": 25,
      "id": "7200f358",
      "metadata": {
        "colab": {
          "base_uri": "https://localhost:8080/"
        },
        "id": "7200f358",
        "outputId": "9a4a800f-8181-4d21-b34a-b1d1319cc772"
      },
      "outputs": [
        {
          "output_type": "execute_result",
          "data": {
            "text/plain": [
              "[9, 'a', 'b', 8]"
            ]
          },
          "metadata": {},
          "execution_count": 25
        }
      ],
      "source": [
        "x[0] = 9  # 0번째 값을 9로 변경\n",
        "x"
      ]
    },
    {
      "cell_type": "markdown",
      "id": "7471bb55",
      "metadata": {
        "id": "7471bb55"
      },
      "source": [
        "### 활용하기"
      ]
    },
    {
      "cell_type": "code",
      "execution_count": 26,
      "id": "13c84b68",
      "metadata": {
        "eval": false,
        "id": "13c84b68"
      },
      "outputs": [],
      "source": [
        "# df.query()로 목록에 해당하는 행 추출하기\n",
        "# exam.query('nclass in [1, 3, 5]')\n",
        "\n",
        "# df.groupby()에 여러 변수 지정하기\n",
        "# mpg.groupby(['manufacturer', 'drv']) \\\n",
        "#    .agg(mean_cty = ('cty', 'mean'))"
      ]
    },
    {
      "cell_type": "markdown",
      "id": "99f23a2d",
      "metadata": {
        "id": "99f23a2d"
      },
      "source": [
        "## 17-4 튜플"
      ]
    },
    {
      "cell_type": "markdown",
      "id": "e799814a",
      "metadata": {
        "id": "e799814a"
      },
      "source": [
        "### 만들기"
      ]
    },
    {
      "cell_type": "code",
      "execution_count": 27,
      "id": "18a8bf8b",
      "metadata": {
        "colab": {
          "base_uri": "https://localhost:8080/"
        },
        "id": "18a8bf8b",
        "outputId": "1d0e0bfc-4036-4eca-c40b-1e9c54a79dd0"
      },
      "outputs": [
        {
          "output_type": "execute_result",
          "data": {
            "text/plain": [
              "(1, 2, 'a', 'b')"
            ]
          },
          "metadata": {},
          "execution_count": 27
        }
      ],
      "source": [
        "# 튜플 만들기\n",
        "x = (1, 2, 'a', 'b')\n",
        "x"
      ]
    },
    {
      "cell_type": "code",
      "execution_count": 28,
      "id": "612361f9",
      "metadata": {
        "eval": false,
        "colab": {
          "base_uri": "https://localhost:8080/"
        },
        "id": "612361f9",
        "outputId": "8719a0eb-bdf1-4262-8a72-8d83ef00044f"
      },
      "outputs": [
        {
          "output_type": "execute_result",
          "data": {
            "text/plain": [
              "tuple"
            ]
          },
          "metadata": {},
          "execution_count": 28
        }
      ],
      "source": [
        "type(x)"
      ]
    },
    {
      "cell_type": "code",
      "execution_count": 29,
      "id": "6aa2a1dd",
      "metadata": {
        "colab": {
          "base_uri": "https://localhost:8080/"
        },
        "id": "6aa2a1dd",
        "outputId": "b2a76c89-04e8-461c-ec72-bf537e5e32e9"
      },
      "outputs": [
        {
          "output_type": "execute_result",
          "data": {
            "text/plain": [
              "(1, 2, 'a', 'b')"
            ]
          },
          "metadata": {},
          "execution_count": 29
        }
      ],
      "source": [
        "# () 생략하고 튜플 만들기\n",
        "x2 = 1, 2, 'a', 'b'\n",
        "x2"
      ]
    },
    {
      "cell_type": "code",
      "execution_count": 30,
      "id": "7afacb48",
      "metadata": {
        "eval": false,
        "colab": {
          "base_uri": "https://localhost:8080/"
        },
        "id": "7afacb48",
        "outputId": "4206403e-c27e-4d8f-bb2d-4f5e570f68ca"
      },
      "outputs": [
        {
          "output_type": "execute_result",
          "data": {
            "text/plain": [
              "tuple"
            ]
          },
          "metadata": {},
          "execution_count": 30
        }
      ],
      "source": [
        "type(x2)"
      ]
    },
    {
      "cell_type": "markdown",
      "id": "21105ff3",
      "metadata": {
        "id": "21105ff3"
      },
      "source": [
        "### 추출하기"
      ]
    },
    {
      "cell_type": "code",
      "execution_count": 31,
      "id": "65cdecfc",
      "metadata": {
        "colab": {
          "base_uri": "https://localhost:8080/"
        },
        "id": "65cdecfc",
        "outputId": "4bb4a104-e400-4b79-9125-28ba72372d5b"
      },
      "outputs": [
        {
          "output_type": "execute_result",
          "data": {
            "text/plain": [
              "1"
            ]
          },
          "metadata": {},
          "execution_count": 31
        }
      ],
      "source": [
        "# 0번째 값 추출\n",
        "x[0]"
      ]
    },
    {
      "cell_type": "code",
      "execution_count": 32,
      "id": "d76bc081",
      "metadata": {
        "colab": {
          "base_uri": "https://localhost:8080/"
        },
        "id": "d76bc081",
        "outputId": "cb00e0b6-16db-48f5-f1ac-e9a4852082df"
      },
      "outputs": [
        {
          "output_type": "execute_result",
          "data": {
            "text/plain": [
              "(2, 'a')"
            ]
          },
          "metadata": {},
          "execution_count": 32
        }
      ],
      "source": [
        "# 1~2번째 값 추출\n",
        "x[1:3]"
      ]
    },
    {
      "cell_type": "markdown",
      "id": "a273c463",
      "metadata": {
        "id": "a273c463"
      },
      "source": [
        "### 튜플은 수정할 수 없다"
      ]
    },
    {
      "cell_type": "code",
      "execution_count": 33,
      "id": "be84982e",
      "metadata": {
        "error": true,
        "tags": [
          "raises-exception"
        ],
        "colab": {
          "base_uri": "https://localhost:8080/",
          "height": 149
        },
        "id": "be84982e",
        "outputId": "6ebff3c6-197c-4842-a110-b0d5ac2d2100"
      },
      "outputs": [
        {
          "output_type": "error",
          "ename": "AttributeError",
          "evalue": "'tuple' object has no attribute 'append'",
          "traceback": [
            "\u001b[0;31m---------------------------------------------------------------------------\u001b[0m",
            "\u001b[0;31mAttributeError\u001b[0m                            Traceback (most recent call last)",
            "\u001b[0;32m<ipython-input-33-2efc4dc5cb11>\u001b[0m in \u001b[0;36m<cell line: 1>\u001b[0;34m()\u001b[0m\n\u001b[0;32m----> 1\u001b[0;31m \u001b[0mx\u001b[0m\u001b[0;34m.\u001b[0m\u001b[0mappend\u001b[0m\u001b[0;34m(\u001b[0m\u001b[0;36m8\u001b[0m\u001b[0;34m)\u001b[0m  \u001b[0;31m# 추가\u001b[0m\u001b[0;34m\u001b[0m\u001b[0;34m\u001b[0m\u001b[0m\n\u001b[0m",
            "\u001b[0;31mAttributeError\u001b[0m: 'tuple' object has no attribute 'append'"
          ]
        }
      ],
      "source": [
        "x.append(8)  # 추가"
      ]
    },
    {
      "cell_type": "code",
      "execution_count": 34,
      "id": "15fac874",
      "metadata": {
        "error": true,
        "tags": [
          "raises-exception"
        ],
        "colab": {
          "base_uri": "https://localhost:8080/",
          "height": 149
        },
        "id": "15fac874",
        "outputId": "586fe15f-75f6-499a-eb97-6edc6aab15d6"
      },
      "outputs": [
        {
          "output_type": "error",
          "ename": "AttributeError",
          "evalue": "'tuple' object has no attribute 'remove'",
          "traceback": [
            "\u001b[0;31m---------------------------------------------------------------------------\u001b[0m",
            "\u001b[0;31mAttributeError\u001b[0m                            Traceback (most recent call last)",
            "\u001b[0;32m<ipython-input-34-a501aed657d4>\u001b[0m in \u001b[0;36m<cell line: 1>\u001b[0;34m()\u001b[0m\n\u001b[0;32m----> 1\u001b[0;31m \u001b[0mx\u001b[0m\u001b[0;34m.\u001b[0m\u001b[0mremove\u001b[0m\u001b[0;34m(\u001b[0m\u001b[0;36m3\u001b[0m\u001b[0;34m)\u001b[0m  \u001b[0;31m# 삭제\u001b[0m\u001b[0;34m\u001b[0m\u001b[0;34m\u001b[0m\u001b[0m\n\u001b[0m",
            "\u001b[0;31mAttributeError\u001b[0m: 'tuple' object has no attribute 'remove'"
          ]
        }
      ],
      "source": [
        "x.remove(3)  # 삭제"
      ]
    },
    {
      "cell_type": "code",
      "execution_count": 35,
      "id": "7f084f21",
      "metadata": {
        "error": true,
        "tags": [
          "raises-exception"
        ],
        "colab": {
          "base_uri": "https://localhost:8080/",
          "height": 149
        },
        "id": "7f084f21",
        "outputId": "6b568330-a6b7-4237-d62c-531c39c6e120"
      },
      "outputs": [
        {
          "output_type": "error",
          "ename": "TypeError",
          "evalue": "'tuple' object does not support item assignment",
          "traceback": [
            "\u001b[0;31m---------------------------------------------------------------------------\u001b[0m",
            "\u001b[0;31mTypeError\u001b[0m                                 Traceback (most recent call last)",
            "\u001b[0;32m<ipython-input-35-e207f83afe4d>\u001b[0m in \u001b[0;36m<cell line: 1>\u001b[0;34m()\u001b[0m\n\u001b[0;32m----> 1\u001b[0;31m \u001b[0mx\u001b[0m\u001b[0;34m[\u001b[0m\u001b[0;36m0\u001b[0m\u001b[0;34m]\u001b[0m \u001b[0;34m=\u001b[0m \u001b[0;36m9\u001b[0m  \u001b[0;31m# 변경\u001b[0m\u001b[0;34m\u001b[0m\u001b[0;34m\u001b[0m\u001b[0m\n\u001b[0m",
            "\u001b[0;31mTypeError\u001b[0m: 'tuple' object does not support item assignment"
          ]
        }
      ],
      "source": [
        "x[0] = 9  # 변경"
      ]
    },
    {
      "cell_type": "markdown",
      "id": "04028fc0",
      "metadata": {
        "id": "04028fc0"
      },
      "source": [
        "### 활용하기"
      ]
    },
    {
      "cell_type": "code",
      "execution_count": null,
      "id": "97917205",
      "metadata": {
        "eval": false,
        "id": "97917205"
      },
      "outputs": [],
      "source": [
        "# df.agg()로 요약 통계량 구하기\n",
        "# exam.agg(mean_math = ('math', 'mean'))\n",
        "\n",
        "# sns.scatterplot.set()으로 축 범위 제한하기\n",
        "# sns.scatterplot(data = mpg, x = 'displ', y = 'hwy').set(xlim = (3, 6))"
      ]
    },
    {
      "cell_type": "markdown",
      "id": "5c1bea1b",
      "metadata": {
        "id": "5c1bea1b"
      },
      "source": [
        "## 17-5 딕셔너리"
      ]
    },
    {
      "cell_type": "markdown",
      "id": "95c9e98e",
      "metadata": {
        "id": "95c9e98e"
      },
      "source": [
        "### 만들기"
      ]
    },
    {
      "cell_type": "code",
      "execution_count": 36,
      "id": "8a578672",
      "metadata": {
        "colab": {
          "base_uri": "https://localhost:8080/"
        },
        "id": "8a578672",
        "outputId": "d45282ff-fc7a-4bf5-83dd-2d5ad5eb2a87"
      },
      "outputs": [
        {
          "output_type": "execute_result",
          "data": {
            "text/plain": [
              "{'name': 'kim'}"
            ]
          },
          "metadata": {},
          "execution_count": 36
        }
      ],
      "source": [
        "# 딕셔너리 만들기\n",
        "x = {'name' : 'kim'}\n",
        "x"
      ]
    },
    {
      "cell_type": "code",
      "execution_count": 37,
      "id": "c8317658",
      "metadata": {
        "eval": false,
        "colab": {
          "base_uri": "https://localhost:8080/"
        },
        "id": "c8317658",
        "outputId": "5af61514-c33d-462a-db9a-feccd08f70a6"
      },
      "outputs": [
        {
          "output_type": "execute_result",
          "data": {
            "text/plain": [
              "dict"
            ]
          },
          "metadata": {},
          "execution_count": 37
        }
      ],
      "source": [
        "type(x)"
      ]
    },
    {
      "cell_type": "code",
      "execution_count": 38,
      "id": "dfe29f1f",
      "metadata": {
        "colab": {
          "base_uri": "https://localhost:8080/"
        },
        "id": "dfe29f1f",
        "outputId": "8469a8ae-cee4-49da-a0f0-71e21f7f8c11"
      },
      "outputs": [
        {
          "output_type": "execute_result",
          "data": {
            "text/plain": [
              "{'id': 1, 'name': ['kim', 'park'], 'nclass': (1, 2, 3)}"
            ]
          },
          "metadata": {},
          "execution_count": 38
        }
      ],
      "source": [
        "x = {'id' : 1, 'name' : ['kim', 'park'], 'nclass' : (1, 2, 3)}\n",
        "x"
      ]
    },
    {
      "cell_type": "markdown",
      "id": "19e3e3b1",
      "metadata": {
        "id": "19e3e3b1"
      },
      "source": [
        "### 추출하기"
      ]
    },
    {
      "cell_type": "code",
      "execution_count": 39,
      "id": "02c72866",
      "metadata": {
        "colab": {
          "base_uri": "https://localhost:8080/"
        },
        "id": "02c72866",
        "outputId": "379e3aa1-a74b-4698-9b53-9cbd1b9e71d4"
      },
      "outputs": [
        {
          "output_type": "execute_result",
          "data": {
            "text/plain": [
              "1"
            ]
          },
          "metadata": {},
          "execution_count": 39
        }
      ],
      "source": [
        "# id 키의 값 추출\n",
        "x['id']"
      ]
    },
    {
      "cell_type": "code",
      "execution_count": 40,
      "id": "064640cd",
      "metadata": {
        "colab": {
          "base_uri": "https://localhost:8080/"
        },
        "id": "064640cd",
        "outputId": "36002cb6-aef9-41a2-a540-8636c50a2a51"
      },
      "outputs": [
        {
          "output_type": "execute_result",
          "data": {
            "text/plain": [
              "['kim', 'park']"
            ]
          },
          "metadata": {},
          "execution_count": 40
        }
      ],
      "source": [
        "# name 키의 값 추출\n",
        "x['name']"
      ]
    },
    {
      "cell_type": "code",
      "execution_count": 41,
      "id": "69f4f8bc",
      "metadata": {
        "error": true,
        "tags": [
          "raises-exception"
        ],
        "colab": {
          "base_uri": "https://localhost:8080/",
          "height": 149
        },
        "id": "69f4f8bc",
        "outputId": "85ebaf22-09aa-4974-c804-149b83995874"
      },
      "outputs": [
        {
          "output_type": "error",
          "ename": "KeyError",
          "evalue": "1",
          "traceback": [
            "\u001b[0;31m---------------------------------------------------------------------------\u001b[0m",
            "\u001b[0;31mKeyError\u001b[0m                                  Traceback (most recent call last)",
            "\u001b[0;32m<ipython-input-41-fb0e0080324e>\u001b[0m in \u001b[0;36m<cell line: 1>\u001b[0;34m()\u001b[0m\n\u001b[0;32m----> 1\u001b[0;31m \u001b[0mx\u001b[0m\u001b[0;34m[\u001b[0m\u001b[0;36m1\u001b[0m\u001b[0;34m]\u001b[0m\u001b[0;34m\u001b[0m\u001b[0;34m\u001b[0m\u001b[0m\n\u001b[0m",
            "\u001b[0;31mKeyError\u001b[0m: 1"
          ]
        }
      ],
      "source": [
        "x[1]"
      ]
    },
    {
      "cell_type": "code",
      "execution_count": 42,
      "id": "ec18e3e5",
      "metadata": {
        "colab": {
          "base_uri": "https://localhost:8080/",
          "height": 36
        },
        "id": "ec18e3e5",
        "outputId": "3ac09e11-1795-4baa-8dae-5f4e2dc50185"
      },
      "outputs": [
        {
          "output_type": "execute_result",
          "data": {
            "text/plain": [
              "'kim'"
            ],
            "application/vnd.google.colaboratory.intrinsic+json": {
              "type": "string"
            }
          },
          "metadata": {},
          "execution_count": 42
        }
      ],
      "source": [
        "# name 키의 0번째 값 추출\n",
        "x['name'][0]"
      ]
    },
    {
      "cell_type": "code",
      "execution_count": 43,
      "id": "cc26fb47",
      "metadata": {
        "colab": {
          "base_uri": "https://localhost:8080/"
        },
        "id": "cc26fb47",
        "outputId": "f92b5dc9-2ae4-404c-afa3-26848a71c8d6"
      },
      "outputs": [
        {
          "output_type": "execute_result",
          "data": {
            "text/plain": [
              "2"
            ]
          },
          "metadata": {},
          "execution_count": 43
        }
      ],
      "source": [
        "# nclass 키의 1번째 값 추출\n",
        "x['nclass'][1]"
      ]
    },
    {
      "cell_type": "markdown",
      "id": "5092e62d",
      "metadata": {
        "id": "5092e62d"
      },
      "source": [
        "### 수정하기\n",
        "\n",
        "**추가하기**"
      ]
    },
    {
      "cell_type": "code",
      "execution_count": null,
      "id": "577c6e6e",
      "metadata": {
        "id": "577c6e6e",
        "outputId": "a1fc9c24-4227-4d1f-e07c-55d842d2d545"
      },
      "outputs": [
        {
          "data": {
            "text/plain": [
              "{'id': 1, 'name': ['kim', 'park'], 'nclass': (1, 2, 3), 'score': [5, 6, 7]}"
            ]
          },
          "execution_count": 44,
          "metadata": {},
          "output_type": "execute_result"
        }
      ],
      "source": [
        "# 'score': [5, 6, 7] 쌍 추가\n",
        "x['score'] = [5, 6, 7]\n",
        "x"
      ]
    },
    {
      "cell_type": "markdown",
      "id": "0dbc4c2f",
      "metadata": {
        "id": "0dbc4c2f"
      },
      "source": [
        "**삭제하기**"
      ]
    },
    {
      "cell_type": "code",
      "execution_count": null,
      "id": "378811ae-3415-4fa1-b404-6677bee7713c",
      "metadata": {
        "id": "378811ae-3415-4fa1-b404-6677bee7713c",
        "outputId": "238938ad-aabf-454e-b4a0-749133b77ce3"
      },
      "outputs": [
        {
          "data": {
            "text/plain": [
              "{'id': 1, 'name': ['kim', 'park'], 'nclass': (1, 2, 3), 'score': [5, 6, 7]}"
            ]
          },
          "execution_count": 45,
          "metadata": {},
          "output_type": "execute_result"
        }
      ],
      "source": [
        "x"
      ]
    },
    {
      "cell_type": "code",
      "execution_count": null,
      "id": "353c4060",
      "metadata": {
        "id": "353c4060",
        "outputId": "6b17e04e-0736-4b80-f44d-9e8dd0446eb8"
      },
      "outputs": [
        {
          "data": {
            "text/plain": [
              "{'name': ['kim', 'park'], 'nclass': (1, 2, 3), 'score': [5, 6, 7]}"
            ]
          },
          "execution_count": 46,
          "metadata": {},
          "output_type": "execute_result"
        }
      ],
      "source": [
        "# id 키:값 쌍 삭제\n",
        "del(x['id'])\n",
        "x"
      ]
    },
    {
      "cell_type": "code",
      "execution_count": null,
      "id": "1a9fcceb",
      "metadata": {
        "id": "1a9fcceb",
        "outputId": "99dcd304-5d55-4e2e-a2a7-860aab4f19b6"
      },
      "outputs": [
        {
          "data": {
            "text/plain": [
              "{'name': ['kim'], 'nclass': (1, 2, 3), 'score': [5, 6, 7]}"
            ]
          },
          "execution_count": 47,
          "metadata": {},
          "output_type": "execute_result"
        }
      ],
      "source": [
        "# name 키의 1번째 요소 삭제\n",
        "del(x['name'][1])\n",
        "x"
      ]
    },
    {
      "cell_type": "markdown",
      "id": "19c37285",
      "metadata": {
        "id": "19c37285"
      },
      "source": [
        "**값 변경하기**"
      ]
    },
    {
      "cell_type": "code",
      "execution_count": null,
      "id": "5e4c7086",
      "metadata": {
        "id": "5e4c7086",
        "outputId": "c2595da1-11ae-479a-a55e-4c2dcf219edf"
      },
      "outputs": [
        {
          "data": {
            "text/plain": [
              "{'name': ['kim'], 'nclass': (1, 2, 3), 'score': [7, 8, 9]}"
            ]
          },
          "execution_count": 48,
          "metadata": {},
          "output_type": "execute_result"
        }
      ],
      "source": [
        "# score 키의 값 변경\n",
        "x['score'] = [7, 8, 9]\n",
        "x"
      ]
    },
    {
      "cell_type": "code",
      "execution_count": null,
      "id": "3099dc03",
      "metadata": {
        "id": "3099dc03",
        "outputId": "53917d05-d952-4123-e18c-c86945107341"
      },
      "outputs": [
        {
          "data": {
            "text/plain": [
              "{'name': ['kim'], 'nclass': (1, 2, 3), 'score': [7, 8, 99]}"
            ]
          },
          "execution_count": 49,
          "metadata": {},
          "output_type": "execute_result"
        }
      ],
      "source": [
        "# score 키의 2번째 값 변경\n",
        "x['score'][2] = 99\n",
        "x"
      ]
    },
    {
      "cell_type": "markdown",
      "id": "b508d02c",
      "metadata": {
        "id": "b508d02c"
      },
      "source": [
        "**키 변경하기**"
      ]
    },
    {
      "cell_type": "code",
      "execution_count": null,
      "id": "965a83a3",
      "metadata": {
        "id": "965a83a3",
        "outputId": "231064a9-3921-4111-e18d-59827ff31427"
      },
      "outputs": [
        {
          "data": {
            "text/plain": [
              "{'name': ['kim'], 'nclass': (1, 2, 3), 'score': [7, 8, 99], 'math': [7, 8, 99]}"
            ]
          },
          "execution_count": 50,
          "metadata": {},
          "output_type": "execute_result"
        }
      ],
      "source": [
        "# (1) 기존 키를 새 키에 할당\n",
        "x['math'] = x['score']\n",
        "x"
      ]
    },
    {
      "cell_type": "code",
      "execution_count": null,
      "id": "b9870543",
      "metadata": {
        "id": "b9870543",
        "outputId": "09359697-8ac1-4485-e12b-af74604a8f79"
      },
      "outputs": [
        {
          "data": {
            "text/plain": [
              "{'name': ['kim'], 'nclass': (1, 2, 3), 'math': [7, 8, 99]}"
            ]
          },
          "execution_count": 51,
          "metadata": {},
          "output_type": "execute_result"
        }
      ],
      "source": [
        "# (2) 기존 키 삭제\n",
        "del(x['score'])\n",
        "x"
      ]
    },
    {
      "cell_type": "markdown",
      "id": "7425386c",
      "metadata": {
        "id": "7425386c"
      },
      "source": [
        "### 활용하기"
      ]
    },
    {
      "cell_type": "code",
      "execution_count": null,
      "id": "c7ccac7c",
      "metadata": {
        "eval": false,
        "id": "c7ccac7c"
      },
      "outputs": [],
      "source": [
        "# pd.DataFrame()으로 데이터 프레임 만들기\n",
        "# df = pd.DataFrame({'id' : [1, 2, 3]})\n",
        "\n",
        "# df.rename()으로 변수명 바꾸기\n",
        "# mpg.rename(columns = {'cty' : 'city'})"
      ]
    },
    {
      "cell_type": "markdown",
      "id": "be0aa32e",
      "metadata": {
        "id": "be0aa32e"
      },
      "source": [
        "## 17-6 시리즈"
      ]
    },
    {
      "cell_type": "markdown",
      "id": "963aa2aa",
      "metadata": {
        "id": "963aa2aa"
      },
      "source": [
        "### 만들기"
      ]
    },
    {
      "cell_type": "code",
      "execution_count": null,
      "id": "b9492aac",
      "metadata": {
        "id": "b9492aac",
        "outputId": "6b8adbfb-5287-4149-bdeb-84cbedd4f120"
      },
      "outputs": [
        {
          "data": {
            "text/plain": [
              "0    3\n",
              "1    4\n",
              "2    5\n",
              "dtype: int64"
            ]
          },
          "execution_count": 53,
          "metadata": {},
          "output_type": "execute_result"
        }
      ],
      "source": [
        "# 시리즈 만들기\n",
        "import pandas as pd\n",
        "x_num = pd.Series([3, 4, 5])\n",
        "x_num"
      ]
    },
    {
      "cell_type": "code",
      "execution_count": null,
      "id": "0062be65",
      "metadata": {
        "eval": false,
        "id": "0062be65",
        "outputId": "be9a9d2d-3097-4c38-d393-276bfb568bd8"
      },
      "outputs": [
        {
          "data": {
            "text/plain": [
              "pandas.core.series.Series"
            ]
          },
          "execution_count": 54,
          "metadata": {},
          "output_type": "execute_result"
        }
      ],
      "source": [
        "type(x_num)"
      ]
    },
    {
      "cell_type": "code",
      "execution_count": null,
      "id": "c32d959c",
      "metadata": {
        "id": "c32d959c",
        "outputId": "31bf0307-3dda-4b5b-f5a6-693bd21b64a9"
      },
      "outputs": [
        {
          "data": {
            "text/plain": [
              "kim     3\n",
              "lee     4\n",
              "park    5\n",
              "dtype: int64"
            ]
          },
          "execution_count": 55,
          "metadata": {},
          "output_type": "execute_result"
        }
      ],
      "source": [
        "# 인덱스 정하기\n",
        "x_label = pd.Series([3, 4, 5], index = ['kim', 'lee', 'park'])\n",
        "x_label"
      ]
    },
    {
      "cell_type": "markdown",
      "id": "315f2415",
      "metadata": {
        "id": "315f2415"
      },
      "source": [
        "### 추출하기"
      ]
    },
    {
      "cell_type": "code",
      "execution_count": null,
      "id": "6e916512",
      "metadata": {
        "id": "6e916512",
        "outputId": "07fbe42e-37c7-4720-ad92-68b82ab61c04"
      },
      "outputs": [
        {
          "data": {
            "text/plain": [
              "3"
            ]
          },
          "execution_count": 56,
          "metadata": {},
          "output_type": "execute_result"
        }
      ],
      "source": [
        "# 0번째 값 추출\n",
        "x_num[0]"
      ]
    },
    {
      "cell_type": "code",
      "execution_count": null,
      "id": "a60def45",
      "metadata": {
        "id": "a60def45",
        "outputId": "1197d717-0d59-45ba-d57e-582b7579392f"
      },
      "outputs": [
        {
          "data": {
            "text/plain": [
              "4"
            ]
          },
          "execution_count": 57,
          "metadata": {},
          "output_type": "execute_result"
        }
      ],
      "source": [
        "# 1번째 값 추출\n",
        "x_num[1]"
      ]
    },
    {
      "cell_type": "code",
      "execution_count": null,
      "id": "9b4f5960",
      "metadata": {
        "id": "9b4f5960",
        "outputId": "5a091b71-f664-4aa0-d5e7-e2abec96d815"
      },
      "outputs": [
        {
          "data": {
            "text/plain": [
              "5"
            ]
          },
          "execution_count": 58,
          "metadata": {},
          "output_type": "execute_result"
        }
      ],
      "source": [
        "# 2번째 값 추출\n",
        "x_label[2]"
      ]
    },
    {
      "cell_type": "code",
      "execution_count": null,
      "id": "736abcaf",
      "metadata": {
        "id": "736abcaf",
        "outputId": "a6215ad3-4661-4172-d164-b5b2f164c389"
      },
      "outputs": [
        {
          "data": {
            "text/plain": [
              "3"
            ]
          },
          "execution_count": 59,
          "metadata": {},
          "output_type": "execute_result"
        }
      ],
      "source": [
        "# 인덱스 kim의 값 추출\n",
        "x_label['kim']"
      ]
    },
    {
      "cell_type": "code",
      "execution_count": null,
      "id": "d7dbddb1",
      "metadata": {
        "id": "d7dbddb1",
        "outputId": "24e2a062-cc0e-4fee-d6f1-29dd7f28f82c"
      },
      "outputs": [
        {
          "data": {
            "text/plain": [
              "3"
            ]
          },
          "execution_count": 60,
          "metadata": {},
          "output_type": "execute_result"
        }
      ],
      "source": [
        "x_label.loc['kim']"
      ]
    },
    {
      "cell_type": "code",
      "execution_count": null,
      "id": "1311bb05",
      "metadata": {
        "id": "1311bb05",
        "outputId": "5a4b9d1c-4ed4-4b2c-8c11-bb779d38f625"
      },
      "outputs": [
        {
          "data": {
            "text/plain": [
              "3"
            ]
          },
          "execution_count": 61,
          "metadata": {},
          "output_type": "execute_result"
        }
      ],
      "source": [
        "x_num.iloc[0]"
      ]
    },
    {
      "cell_type": "markdown",
      "id": "81e8c9bf",
      "metadata": {
        "id": "81e8c9bf"
      },
      "source": [
        "### 수정하기\n",
        "\n",
        "**추가하기**"
      ]
    },
    {
      "cell_type": "code",
      "execution_count": null,
      "id": "4b37eadb",
      "metadata": {
        "id": "4b37eadb",
        "outputId": "eaa59702-2940-4558-a249-afcff6378eab"
      },
      "outputs": [
        {
          "data": {
            "text/plain": [
              "0    3\n",
              "1    4\n",
              "2    5\n",
              "3    9\n",
              "dtype: int64"
            ]
          },
          "execution_count": 62,
          "metadata": {},
          "output_type": "execute_result"
        }
      ],
      "source": [
        "# 3번째 인덱스에 9 할당\n",
        "x_num[3] = 9\n",
        "x_num"
      ]
    },
    {
      "cell_type": "code",
      "execution_count": null,
      "id": "b0bf92d1",
      "metadata": {
        "id": "b0bf92d1",
        "outputId": "8799c06b-231e-4a67-a19a-9c659d401106"
      },
      "outputs": [
        {
          "data": {
            "text/plain": [
              "kim     3\n",
              "lee     4\n",
              "park    5\n",
              "choi    6\n",
              "dtype: int64"
            ]
          },
          "execution_count": 63,
          "metadata": {},
          "output_type": "execute_result"
        }
      ],
      "source": [
        "# 인덱스 choi에 6 할당\n",
        "x_label['choi'] = 6\n",
        "x_label"
      ]
    },
    {
      "cell_type": "markdown",
      "id": "1c5b0df0",
      "metadata": {
        "id": "1c5b0df0"
      },
      "source": [
        "**삭제하기**"
      ]
    },
    {
      "cell_type": "code",
      "execution_count": null,
      "id": "d3075ec4",
      "metadata": {
        "id": "d3075ec4",
        "outputId": "0ac93872-6514-44f5-e0ed-05c622e53290"
      },
      "outputs": [
        {
          "data": {
            "text/plain": [
              "0    3\n",
              "1    4\n",
              "3    9\n",
              "dtype: int64"
            ]
          },
          "execution_count": 64,
          "metadata": {},
          "output_type": "execute_result"
        }
      ],
      "source": [
        "# 2번째 인덱스 삭제\n",
        "del(x_num[2])\n",
        "x_num"
      ]
    },
    {
      "cell_type": "code",
      "execution_count": null,
      "id": "1d32ea86",
      "metadata": {
        "id": "1d32ea86",
        "outputId": "02f0d344-c8e3-479d-a4b9-055241d0daf8"
      },
      "outputs": [
        {
          "data": {
            "text/plain": [
              "kim     3\n",
              "lee     4\n",
              "choi    6\n",
              "dtype: int64"
            ]
          },
          "execution_count": 65,
          "metadata": {},
          "output_type": "execute_result"
        }
      ],
      "source": [
        "# 인덱스 park 삭제\n",
        "del(x_label['park'])\n",
        "x_label"
      ]
    },
    {
      "cell_type": "markdown",
      "id": "2e04cc46",
      "metadata": {
        "id": "2e04cc46"
      },
      "source": [
        "**변경하기**"
      ]
    },
    {
      "cell_type": "code",
      "execution_count": null,
      "id": "7536ea10",
      "metadata": {
        "id": "7536ea10",
        "outputId": "2d6399f3-94ae-4383-f236-e0d00d75073b"
      },
      "outputs": [
        {
          "data": {
            "text/plain": [
              "0    3\n",
              "1    4\n",
              "3    4\n",
              "dtype: int64"
            ]
          },
          "execution_count": 66,
          "metadata": {},
          "output_type": "execute_result"
        }
      ],
      "source": [
        "# 3번째 인덱스의 값을 4로 변경\n",
        "x_num[3] = 4\n",
        "x_num"
      ]
    },
    {
      "cell_type": "code",
      "execution_count": null,
      "id": "e9da2a7a",
      "metadata": {
        "id": "e9da2a7a",
        "outputId": "58903216-78a0-4bc9-f8b1-f29728dd6b26"
      },
      "outputs": [
        {
          "data": {
            "text/plain": [
              "kim     5\n",
              "lee     4\n",
              "choi    6\n",
              "dtype: int64"
            ]
          },
          "execution_count": 67,
          "metadata": {},
          "output_type": "execute_result"
        }
      ],
      "source": [
        "# 인덱스 kim의 값을 5로 변경\n",
        "x_label['kim'] = 5\n",
        "x_label"
      ]
    },
    {
      "cell_type": "markdown",
      "id": "efeac088",
      "metadata": {
        "id": "efeac088"
      },
      "source": [
        "### 활용하기\n",
        "\n",
        "**데이터 프레임에서 변수 추출해 활용하기**"
      ]
    },
    {
      "cell_type": "code",
      "execution_count": null,
      "id": "84084ddc",
      "metadata": {
        "id": "84084ddc",
        "outputId": "0063bb67-7e56-4b97-b1c7-f8768a2f8824"
      },
      "outputs": [
        {
          "data": {
            "text/plain": [
              "0      29\n",
              "1      29\n",
              "2      31\n",
              "3      30\n",
              "4      26\n",
              "       ..\n",
              "229    28\n",
              "230    29\n",
              "231    26\n",
              "232    26\n",
              "233    26\n",
              "Name: hwy, Length: 234, dtype: int64"
            ]
          },
          "execution_count": 68,
          "metadata": {},
          "output_type": "execute_result"
        }
      ],
      "source": [
        "mpg = pd.read_csv('mpg.csv')\n",
        "mpg['hwy']"
      ]
    },
    {
      "cell_type": "code",
      "execution_count": null,
      "id": "31aa3529",
      "metadata": {
        "id": "31aa3529",
        "outputId": "f22489da-5be7-47d7-b4e1-bb886176f2f3"
      },
      "outputs": [
        {
          "data": {
            "text/plain": [
              "23.44017094017094"
            ]
          },
          "execution_count": 69,
          "metadata": {},
          "output_type": "execute_result"
        }
      ],
      "source": [
        "mpg['hwy'].mean()"
      ]
    },
    {
      "cell_type": "markdown",
      "id": "d90b0d9c",
      "metadata": {
        "id": "d90b0d9c"
      },
      "source": [
        "**`pandas` 함수의 출력 결과 활용하기**"
      ]
    },
    {
      "cell_type": "code",
      "execution_count": null,
      "id": "fa9351f2",
      "metadata": {
        "id": "fa9351f2",
        "outputId": "db5989b6-0364-4230-b252-aca40d2d7fa2"
      },
      "outputs": [
        {
          "data": {
            "text/plain": [
              "suv           62\n",
              "compact       47\n",
              "midsize       41\n",
              "subcompact    35\n",
              "pickup        33\n",
              "minivan       11\n",
              "2seater        5\n",
              "Name: category, dtype: int64"
            ]
          },
          "execution_count": 70,
          "metadata": {},
          "output_type": "execute_result"
        }
      ],
      "source": [
        "n_category = mpg['category'].value_counts()\n",
        "n_category"
      ]
    },
    {
      "cell_type": "code",
      "execution_count": null,
      "id": "858261f7",
      "metadata": {
        "eval": false,
        "id": "858261f7",
        "outputId": "ddc1c48a-0fd7-4924-823f-58840a470267"
      },
      "outputs": [
        {
          "data": {
            "text/plain": [
              "pandas.core.series.Series"
            ]
          },
          "execution_count": 71,
          "metadata": {},
          "output_type": "execute_result"
        }
      ],
      "source": [
        "type(n_category)"
      ]
    },
    {
      "cell_type": "code",
      "execution_count": null,
      "id": "9eb54ad0",
      "metadata": {
        "id": "9eb54ad0",
        "outputId": "9fff6644-619f-4b83-b850-ef77c9fbf4bc"
      },
      "outputs": [
        {
          "data": {
            "text/plain": [
              "suv        62\n",
              "compact    47\n",
              "Name: category, dtype: int64"
            ]
          },
          "execution_count": 72,
          "metadata": {},
          "output_type": "execute_result"
        }
      ],
      "source": [
        "# 인덱스 번호로 추출하기\n",
        "n_category[0:2]"
      ]
    },
    {
      "cell_type": "code",
      "execution_count": null,
      "id": "2d7c97c0",
      "metadata": {
        "id": "2d7c97c0",
        "outputId": "8916e4b9-7ae3-43df-813e-3822296d7320"
      },
      "outputs": [
        {
          "data": {
            "text/plain": [
              "suv        62\n",
              "compact    47\n",
              "Name: category, dtype: int64"
            ]
          },
          "execution_count": 73,
          "metadata": {},
          "output_type": "execute_result"
        }
      ],
      "source": [
        "# 인덱스 문자열로 추출하기\n",
        "n_category[['suv', 'compact']]"
      ]
    },
    {
      "cell_type": "markdown",
      "id": "0000a16c",
      "metadata": {
        "id": "0000a16c"
      },
      "source": [
        "## 17-7 데이터 프레임"
      ]
    },
    {
      "cell_type": "markdown",
      "id": "83a16588",
      "metadata": {
        "id": "83a16588"
      },
      "source": [
        "### 만들기"
      ]
    },
    {
      "cell_type": "code",
      "execution_count": null,
      "id": "4ecfda62",
      "metadata": {
        "id": "4ecfda62",
        "outputId": "4839e887-7f2c-4134-bd64-a8d9e076454d"
      },
      "outputs": [
        {
          "data": {
            "text/html": [
              "<div>\n",
              "<style scoped>\n",
              "    .dataframe tbody tr th:only-of-type {\n",
              "        vertical-align: middle;\n",
              "    }\n",
              "\n",
              "    .dataframe tbody tr th {\n",
              "        vertical-align: top;\n",
              "    }\n",
              "\n",
              "    .dataframe thead th {\n",
              "        text-align: right;\n",
              "    }\n",
              "</style>\n",
              "<table border=\"1\" class=\"dataframe\">\n",
              "  <thead>\n",
              "    <tr style=\"text-align: right;\">\n",
              "      <th></th>\n",
              "      <th>var1</th>\n",
              "      <th>var2</th>\n",
              "    </tr>\n",
              "  </thead>\n",
              "  <tbody>\n",
              "    <tr>\n",
              "      <th>0</th>\n",
              "      <td>1</td>\n",
              "      <td>4</td>\n",
              "    </tr>\n",
              "    <tr>\n",
              "      <th>1</th>\n",
              "      <td>2</td>\n",
              "      <td>5</td>\n",
              "    </tr>\n",
              "    <tr>\n",
              "      <th>2</th>\n",
              "      <td>3</td>\n",
              "      <td>6</td>\n",
              "    </tr>\n",
              "  </tbody>\n",
              "</table>\n",
              "</div>"
            ],
            "text/plain": [
              "   var1  var2\n",
              "0     1     4\n",
              "1     2     5\n",
              "2     3     6"
            ]
          },
          "execution_count": 74,
          "metadata": {},
          "output_type": "execute_result"
        }
      ],
      "source": [
        "# 데이터 프레임 만들기\n",
        "import pandas as pd\n",
        "df = pd.DataFrame({'var1' : [1, 2, 3],\n",
        "                   'var2' : [4, 5, 6]})\n",
        "df"
      ]
    },
    {
      "cell_type": "code",
      "execution_count": null,
      "id": "57ef8320",
      "metadata": {
        "eval": false,
        "id": "57ef8320",
        "outputId": "87f8c39f-1a5e-4eed-c51b-59df6bc393f4"
      },
      "outputs": [
        {
          "data": {
            "text/plain": [
              "pandas.core.frame.DataFrame"
            ]
          },
          "execution_count": 75,
          "metadata": {},
          "output_type": "execute_result"
        }
      ],
      "source": [
        "type(df)"
      ]
    },
    {
      "cell_type": "code",
      "execution_count": null,
      "id": "1146d710",
      "metadata": {
        "id": "1146d710",
        "outputId": "ae8c874b-5567-48de-bcbd-2073a19ce8e5"
      },
      "outputs": [
        {
          "data": {
            "text/html": [
              "<div>\n",
              "<style scoped>\n",
              "    .dataframe tbody tr th:only-of-type {\n",
              "        vertical-align: middle;\n",
              "    }\n",
              "\n",
              "    .dataframe tbody tr th {\n",
              "        vertical-align: top;\n",
              "    }\n",
              "\n",
              "    .dataframe thead th {\n",
              "        text-align: right;\n",
              "    }\n",
              "</style>\n",
              "<table border=\"1\" class=\"dataframe\">\n",
              "  <thead>\n",
              "    <tr style=\"text-align: right;\">\n",
              "      <th></th>\n",
              "      <th>var1</th>\n",
              "      <th>var2</th>\n",
              "    </tr>\n",
              "  </thead>\n",
              "  <tbody>\n",
              "    <tr>\n",
              "      <th>kim</th>\n",
              "      <td>1</td>\n",
              "      <td>4</td>\n",
              "    </tr>\n",
              "    <tr>\n",
              "      <th>lee</th>\n",
              "      <td>2</td>\n",
              "      <td>5</td>\n",
              "    </tr>\n",
              "    <tr>\n",
              "      <th>park</th>\n",
              "      <td>3</td>\n",
              "      <td>6</td>\n",
              "    </tr>\n",
              "  </tbody>\n",
              "</table>\n",
              "</div>"
            ],
            "text/plain": [
              "      var1  var2\n",
              "kim      1     4\n",
              "lee      2     5\n",
              "park     3     6"
            ]
          },
          "execution_count": 76,
          "metadata": {},
          "output_type": "execute_result"
        }
      ],
      "source": [
        "# 인덱스 정하기\n",
        "df = pd.DataFrame({'var1' : [1, 2, 3],\n",
        "                   'var2' : [4, 5, 6]},\n",
        "                   index = ['kim', 'lee', 'park'])\n",
        "df"
      ]
    },
    {
      "cell_type": "code",
      "execution_count": null,
      "id": "a1cd734a",
      "metadata": {
        "id": "a1cd734a",
        "outputId": "8478d19f-eb74-47f1-84c0-8d914da50bab"
      },
      "outputs": [
        {
          "data": {
            "text/plain": [
              "kim     1\n",
              "lee     2\n",
              "park    3\n",
              "Name: var1, dtype: int64"
            ]
          },
          "execution_count": 77,
          "metadata": {},
          "output_type": "execute_result"
        }
      ],
      "source": [
        "x = df['var1']\n",
        "x"
      ]
    },
    {
      "cell_type": "code",
      "execution_count": null,
      "id": "fa86b462",
      "metadata": {
        "eval": false,
        "id": "fa86b462",
        "outputId": "cdfc6309-173c-46be-b10b-1eea9a084604"
      },
      "outputs": [
        {
          "data": {
            "text/plain": [
              "pandas.core.series.Series"
            ]
          },
          "execution_count": 78,
          "metadata": {},
          "output_type": "execute_result"
        }
      ],
      "source": [
        "type(x)"
      ]
    },
    {
      "cell_type": "markdown",
      "id": "16cd701e",
      "metadata": {
        "id": "16cd701e"
      },
      "source": [
        "#### 어떤 자료 구조를 사용해야 할까?"
      ]
    },
    {
      "cell_type": "code",
      "execution_count": null,
      "id": "237791bc",
      "metadata": {
        "eval": false,
        "id": "237791bc",
        "outputId": "5884c67b-bf65-4c81-f998-2e2cef07dbb4"
      },
      "outputs": [
        {
          "data": {
            "text/plain": [
              "\u001b[1;31mInit signature:\u001b[0m\n",
              "\u001b[0mpd\u001b[0m\u001b[1;33m.\u001b[0m\u001b[0mDataFrame\u001b[0m\u001b[1;33m(\u001b[0m\u001b[1;33m\n",
              "\u001b[0m    \u001b[0mdata\u001b[0m\u001b[1;33m=\u001b[0m\u001b[1;32mNone\u001b[0m\u001b[1;33m,\u001b[0m\u001b[1;33m\n",
              "\u001b[0m    \u001b[0mindex\u001b[0m\u001b[1;33m:\u001b[0m \u001b[1;34m'Axes | None'\u001b[0m \u001b[1;33m=\u001b[0m \u001b[1;32mNone\u001b[0m\u001b[1;33m,\u001b[0m\u001b[1;33m\n",
              "\u001b[0m    \u001b[0mcolumns\u001b[0m\u001b[1;33m:\u001b[0m \u001b[1;34m'Axes | None'\u001b[0m \u001b[1;33m=\u001b[0m \u001b[1;32mNone\u001b[0m\u001b[1;33m,\u001b[0m\u001b[1;33m\n",
              "\u001b[0m    \u001b[0mdtype\u001b[0m\u001b[1;33m:\u001b[0m \u001b[1;34m'Dtype | None'\u001b[0m \u001b[1;33m=\u001b[0m \u001b[1;32mNone\u001b[0m\u001b[1;33m,\u001b[0m\u001b[1;33m\n",
              "\u001b[0m    \u001b[0mcopy\u001b[0m\u001b[1;33m:\u001b[0m \u001b[1;34m'bool | None'\u001b[0m \u001b[1;33m=\u001b[0m \u001b[1;32mNone\u001b[0m\u001b[1;33m,\u001b[0m\u001b[1;33m\n",
              "\u001b[0m\u001b[1;33m)\u001b[0m\u001b[1;33m\u001b[0m\u001b[1;33m\u001b[0m\u001b[0m\n",
              "\u001b[1;31mDocstring:\u001b[0m     \n",
              "Two-dimensional, size-mutable, potentially heterogeneous tabular data.\n",
              "\n",
              "Data structure also contains labeled axes (rows and columns).\n",
              "Arithmetic operations align on both row and column labels. Can be\n",
              "thought of as a dict-like container for Series objects. The primary\n",
              "pandas data structure.\n",
              "\n",
              "Parameters\n",
              "----------\n",
              "data : ndarray (structured or homogeneous), Iterable, dict, or DataFrame\n",
              "    Dict can contain Series, arrays, constants, dataclass or list-like objects. If\n",
              "    data is a dict, column order follows insertion-order. If a dict contains Series\n",
              "    which have an index defined, it is aligned by its index.\n",
              "\n",
              "    .. versionchanged:: 0.25.0\n",
              "       If data is a list of dicts, column order follows insertion-order.\n",
              "\n",
              "index : Index or array-like\n",
              "    Index to use for resulting frame. Will default to RangeIndex if\n",
              "    no indexing information part of input data and no index provided.\n",
              "columns : Index or array-like\n",
              "    Column labels to use for resulting frame when data does not have them,\n",
              "    defaulting to RangeIndex(0, 1, 2, ..., n). If data contains column labels,\n",
              "    will perform column selection instead.\n",
              "dtype : dtype, default None\n",
              "    Data type to force. Only a single dtype is allowed. If None, infer.\n",
              "copy : bool or None, default None\n",
              "    Copy data from inputs.\n",
              "    For dict data, the default of None behaves like ``copy=True``.  For DataFrame\n",
              "    or 2d ndarray input, the default of None behaves like ``copy=False``.\n",
              "\n",
              "    .. versionchanged:: 1.3.0\n",
              "\n",
              "See Also\n",
              "--------\n",
              "DataFrame.from_records : Constructor from tuples, also record arrays.\n",
              "DataFrame.from_dict : From dicts of Series, arrays, or dicts.\n",
              "read_csv : Read a comma-separated values (csv) file into DataFrame.\n",
              "read_table : Read general delimited file into DataFrame.\n",
              "read_clipboard : Read text from clipboard into DataFrame.\n",
              "\n",
              "Examples\n",
              "--------\n",
              "Constructing DataFrame from a dictionary.\n",
              "\n",
              ">>> d = {'col1': [1, 2], 'col2': [3, 4]}\n",
              ">>> df = pd.DataFrame(data=d)\n",
              ">>> df\n",
              "   col1  col2\n",
              "0     1     3\n",
              "1     2     4\n",
              "\n",
              "Notice that the inferred dtype is int64.\n",
              "\n",
              ">>> df.dtypes\n",
              "col1    int64\n",
              "col2    int64\n",
              "dtype: object\n",
              "\n",
              "To enforce a single dtype:\n",
              "\n",
              ">>> df = pd.DataFrame(data=d, dtype=np.int8)\n",
              ">>> df.dtypes\n",
              "col1    int8\n",
              "col2    int8\n",
              "dtype: object\n",
              "\n",
              "Constructing DataFrame from a dictionary including Series:\n",
              "\n",
              ">>> d = {'col1': [0, 1, 2, 3], 'col2': pd.Series([2, 3], index=[2, 3])}\n",
              ">>> pd.DataFrame(data=d, index=[0, 1, 2, 3])\n",
              "   col1  col2\n",
              "0     0   NaN\n",
              "1     1   NaN\n",
              "2     2   2.0\n",
              "3     3   3.0\n",
              "\n",
              "Constructing DataFrame from numpy ndarray:\n",
              "\n",
              ">>> df2 = pd.DataFrame(np.array([[1, 2, 3], [4, 5, 6], [7, 8, 9]]),\n",
              "...                    columns=['a', 'b', 'c'])\n",
              ">>> df2\n",
              "   a  b  c\n",
              "0  1  2  3\n",
              "1  4  5  6\n",
              "2  7  8  9\n",
              "\n",
              "Constructing DataFrame from a numpy ndarray that has labeled columns:\n",
              "\n",
              ">>> data = np.array([(1, 2, 3), (4, 5, 6), (7, 8, 9)],\n",
              "...                 dtype=[(\"a\", \"i4\"), (\"b\", \"i4\"), (\"c\", \"i4\")])\n",
              ">>> df3 = pd.DataFrame(data, columns=['c', 'a'])\n",
              "...\n",
              ">>> df3\n",
              "   c  a\n",
              "0  3  1\n",
              "1  6  4\n",
              "2  9  7\n",
              "\n",
              "Constructing DataFrame from dataclass:\n",
              "\n",
              ">>> from dataclasses import make_dataclass\n",
              ">>> Point = make_dataclass(\"Point\", [(\"x\", int), (\"y\", int)])\n",
              ">>> pd.DataFrame([Point(0, 0), Point(0, 3), Point(2, 3)])\n",
              "   x  y\n",
              "0  0  0\n",
              "1  0  3\n",
              "2  2  3\n",
              "\u001b[1;31mFile:\u001b[0m           c:\\users\\user\\anaconda3\\envs\\py39\\lib\\site-packages\\pandas\\core\\frame.py\n",
              "\u001b[1;31mType:\u001b[0m           type\n",
              "\u001b[1;31mSubclasses:\u001b[0m     SubclassedDataFrame\n"
            ]
          },
          "metadata": {},
          "output_type": "display_data"
        }
      ],
      "source": [
        "pd.DataFrame?"
      ]
    },
    {
      "cell_type": "markdown",
      "id": "1b32d98f",
      "metadata": {
        "id": "1b32d98f"
      },
      "source": [
        "### 자료 구조 바꾸기"
      ]
    },
    {
      "cell_type": "code",
      "execution_count": null,
      "id": "9cf110ae",
      "metadata": {
        "error": true,
        "tags": [
          "raises-exception"
        ],
        "id": "9cf110ae",
        "outputId": "c5824070-bf83-4c51-a989-d366fdf34626"
      },
      "outputs": [
        {
          "ename": "AttributeError",
          "evalue": "'list' object has no attribute 'mean'",
          "output_type": "error",
          "traceback": [
            "\u001b[1;31m---------------------------------------------------------------------------\u001b[0m",
            "\u001b[1;31mAttributeError\u001b[0m                            Traceback (most recent call last)",
            "Input \u001b[1;32mIn [80]\u001b[0m, in \u001b[0;36m<cell line: 2>\u001b[1;34m()\u001b[0m\n\u001b[0;32m      1\u001b[0m x \u001b[38;5;241m=\u001b[39m [\u001b[38;5;241m1\u001b[39m, \u001b[38;5;241m1\u001b[39m, \u001b[38;5;241m2\u001b[39m, \u001b[38;5;241m3\u001b[39m]\n\u001b[1;32m----> 2\u001b[0m \u001b[43mx\u001b[49m\u001b[38;5;241;43m.\u001b[39;49m\u001b[43mmean\u001b[49m()\n",
            "\u001b[1;31mAttributeError\u001b[0m: 'list' object has no attribute 'mean'"
          ]
        }
      ],
      "source": [
        "x = [1, 1, 2, 3]\n",
        "x.mean()"
      ]
    },
    {
      "cell_type": "code",
      "execution_count": null,
      "id": "3803f3ce",
      "metadata": {
        "error": true,
        "tags": [
          "raises-exception"
        ],
        "id": "3803f3ce",
        "outputId": "0a492500-17da-4154-a727-95bc8930661d"
      },
      "outputs": [
        {
          "ename": "AttributeError",
          "evalue": "'list' object has no attribute 'value_counts'",
          "output_type": "error",
          "traceback": [
            "\u001b[1;31m---------------------------------------------------------------------------\u001b[0m",
            "\u001b[1;31mAttributeError\u001b[0m                            Traceback (most recent call last)",
            "Input \u001b[1;32mIn [81]\u001b[0m, in \u001b[0;36m<cell line: 1>\u001b[1;34m()\u001b[0m\n\u001b[1;32m----> 1\u001b[0m \u001b[43mx\u001b[49m\u001b[38;5;241;43m.\u001b[39;49m\u001b[43mvalue_counts\u001b[49m()\n",
            "\u001b[1;31mAttributeError\u001b[0m: 'list' object has no attribute 'value_counts'"
          ]
        }
      ],
      "source": [
        "x.value_counts()"
      ]
    },
    {
      "cell_type": "code",
      "execution_count": null,
      "id": "5b7e1eed",
      "metadata": {
        "eval": false,
        "id": "5b7e1eed",
        "outputId": "d1dacfb1-7239-40c3-a47d-0be353745a47"
      },
      "outputs": [
        {
          "data": {
            "text/plain": [
              "pandas.core.frame.DataFrame"
            ]
          },
          "execution_count": 82,
          "metadata": {},
          "output_type": "execute_result"
        }
      ],
      "source": [
        "# 데이터 프레임으로 바꾸기\n",
        "df_x = pd.DataFrame(x)\n",
        "type(df_x)"
      ]
    },
    {
      "cell_type": "code",
      "execution_count": null,
      "id": "e3c8692f",
      "metadata": {
        "id": "e3c8692f",
        "outputId": "874c7f0a-8004-40c4-e665-c4b63cb023a2"
      },
      "outputs": [
        {
          "data": {
            "text/plain": [
              "0    1.75\n",
              "dtype: float64"
            ]
          },
          "execution_count": 83,
          "metadata": {},
          "output_type": "execute_result"
        }
      ],
      "source": [
        "df_x.mean()"
      ]
    },
    {
      "cell_type": "code",
      "execution_count": null,
      "id": "9536ccf0",
      "metadata": {
        "id": "9536ccf0",
        "outputId": "cd33049c-3d6d-471b-eea4-3218b8f0f56a"
      },
      "outputs": [
        {
          "data": {
            "text/plain": [
              "1    2\n",
              "2    1\n",
              "3    1\n",
              "dtype: int64"
            ]
          },
          "execution_count": 84,
          "metadata": {},
          "output_type": "execute_result"
        }
      ],
      "source": [
        "df_x.value_counts()"
      ]
    },
    {
      "cell_type": "markdown",
      "id": "05b66dad",
      "metadata": {
        "id": "05b66dad"
      },
      "source": [
        "------------------------------------------------------------------------\n",
        "\n",
        "### (알아 두면 좋아요) 중첩 자료 구조"
      ]
    },
    {
      "cell_type": "code",
      "execution_count": null,
      "id": "795d3f63",
      "metadata": {
        "id": "795d3f63",
        "outputId": "7efcbf69-60cc-44a0-bbfc-aab246244803"
      },
      "outputs": [
        {
          "data": {
            "text/plain": [
              "[1, 2, [4, 5, 6], 3]"
            ]
          },
          "execution_count": 85,
          "metadata": {},
          "output_type": "execute_result"
        }
      ],
      "source": [
        "x1 = [1, 2, [4, 5, 6], 3]\n",
        "x1"
      ]
    },
    {
      "cell_type": "code",
      "execution_count": null,
      "id": "0aa268cc",
      "metadata": {
        "id": "0aa268cc",
        "outputId": "4054a962-4cca-46f8-90dc-39c9ad75f078"
      },
      "outputs": [
        {
          "data": {
            "text/plain": [
              "[4, 5, 6]"
            ]
          },
          "execution_count": 86,
          "metadata": {},
          "output_type": "execute_result"
        }
      ],
      "source": [
        "x1[2]"
      ]
    },
    {
      "cell_type": "code",
      "execution_count": null,
      "id": "f34c2ba7",
      "metadata": {
        "id": "f34c2ba7",
        "outputId": "efaa0fff-d7c7-48a6-909a-beeac51ab783"
      },
      "outputs": [
        {
          "data": {
            "text/plain": [
              "4"
            ]
          },
          "execution_count": 87,
          "metadata": {},
          "output_type": "execute_result"
        }
      ],
      "source": [
        "x1[2][0]"
      ]
    },
    {
      "cell_type": "code",
      "execution_count": null,
      "id": "932d60a8",
      "metadata": {
        "eval": false,
        "id": "932d60a8"
      },
      "outputs": [],
      "source": [
        "nested_list   = [1, 2, (4, 5, 6), 3]\n",
        "nested_tuple  = (1, 2, [4, 5, 6], 3)\n",
        "nested_dict   = {'score': {'math': 1, 'english': 2}}\n",
        "nested_series = pd.Series([1, 2, [4, 5, 6], 3])\n",
        "nested_df     = pd.DataFrame({'x' : [1, 2, [4, 5, 6], 3]})"
      ]
    },
    {
      "cell_type": "markdown",
      "id": "4b68da0f",
      "metadata": {
        "id": "4b68da0f"
      },
      "source": [
        "---\n",
        "\n",
        "### 정리하기"
      ]
    },
    {
      "cell_type": "code",
      "execution_count": null,
      "id": "1cedce17-9212-4086-a75b-bcba04c10300",
      "metadata": {
        "eval": false,
        "id": "1cedce17-9212-4086-a75b-bcba04c10300"
      },
      "outputs": [],
      "source": [
        "### 1. 스칼라\n",
        "\n",
        "## 만들기\n",
        "x = 1        # 정수\n",
        "x = 1.5      # 부동소수\n",
        "x = 'apple'  # 문자열\n",
        "\n",
        "## 타입 확인하기\n",
        "type(x)\n",
        "\n",
        "## 타입 바꾸기\n",
        "var2 = float(var1)  # float로 바꾸기\n",
        "var3 = str(var2)    # str로 바꾸기\n",
        "\n",
        "\n",
        "### 2. 리스트\n",
        "\n",
        "## 만들기\n",
        "x = [1, 2, 'a', 'b']\n",
        "\n",
        "## 추출하기\n",
        "x[0]\n",
        "x[1:3]\n",
        "\n",
        "## 수정하기\n",
        "x.append(8)  # 추가하기\n",
        "x.remove(2)  # 삭제하기\n",
        "x[0] = 9     # 변경하기\n",
        "\n",
        "\n",
        "### 3. 튜플\n",
        "\n",
        "## 만들기\n",
        "x = (1, 2, 'a', 'b')\n",
        "x2 = 1, 2, 'a', 'b'\n",
        "\n",
        "## 추출하기\n",
        "x[0]\n",
        "x[1:3]\n",
        "\n",
        "\n",
        "### 4. 딕셔너리\n",
        "\n",
        "## 만들기\n",
        "x = {'name' : 'kim'}\n",
        "x = {'id' : 1, 'name' : ['kim', 'park'], 'nclass' : (1, 2, 3)}\n",
        "\n",
        "## 추출하기\n",
        "x['id']\n",
        "x[1]\n",
        "x['name'][0]\n",
        "\n",
        "## 수정하기\n",
        "\n",
        "# 추가하기\n",
        "x['score'] = [5, 6, 7]\n",
        "\n",
        "# 삭제하기\n",
        "del(x['id'])\n",
        "del(x['name'][1])\n",
        "\n",
        "# 값 변경하기\n",
        "x['score'] = [7, 8, 9]\n",
        "x['score'][2] = 99\n",
        "\n",
        "# 키 변경하기\n",
        "x['math'] = x['score']  # (1) 기존 키를 새 키에 할당\n",
        "del(x['score'])         # (2) 기존 키 삭제\n",
        "\n",
        "\n",
        "### 5. 시리즈\n",
        "\n",
        "# 만들기\n",
        "import pandas as pd\n",
        "x_num = pd.Series([3, 4, 5])\n",
        "\n",
        "## 추출하기\n",
        "x_num[0]\n",
        "x_label['kim']\n",
        "\n",
        "## 수정하기\n",
        "\n",
        "# 추가하기\n",
        "x_num[3] = 9\n",
        "x_label['choi'] = 6\n",
        "\n",
        "# 삭제하기\n",
        "del(x_num[2])\n",
        "del(x_label['park'])\n",
        "\n",
        "# 변경하기\n",
        "x_num[3] = 4\n",
        "x_label['kim'] = 5\n",
        "\n",
        "\n",
        "### 6. 데이터 프레임\n",
        "\n",
        "## 만들기\n",
        "import pandas as pd\n",
        "df = pd.DataFrame({'var1' : [1, 2, 3],\n",
        "                   'var2' : [4, 5, 6]})"
      ]
    }
  ],
  "metadata": {
    "jupytext": {
      "cell_metadata_filter": "name,eval,tags,echo,error,-all",
      "notebook_metadata_filter": "-all"
    },
    "kernelspec": {
      "display_name": "Python 3 (ipykernel)",
      "language": "python",
      "name": "python3"
    },
    "language_info": {
      "codemirror_mode": {
        "name": "ipython",
        "version": 3
      },
      "file_extension": ".py",
      "mimetype": "text/x-python",
      "name": "python",
      "nbconvert_exporter": "python",
      "pygments_lexer": "ipython3",
      "version": "3.9.11"
    },
    "colab": {
      "provenance": [],
      "include_colab_link": true
    }
  },
  "nbformat": 4,
  "nbformat_minor": 5
}